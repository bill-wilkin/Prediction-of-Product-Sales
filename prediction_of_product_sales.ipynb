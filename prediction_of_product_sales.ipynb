{
  "nbformat": 4,
  "nbformat_minor": 0,
  "metadata": {
    "colab": {
      "provenance": [],
      "authorship_tag": "ABX9TyOjzbYjTDLXa8ZEbSivg2j3",
      "include_colab_link": true
    },
    "kernelspec": {
      "name": "python3",
      "display_name": "Python 3"
    },
    "language_info": {
      "name": "python"
    }
  },
  "cells": [
    {
      "cell_type": "markdown",
      "metadata": {
        "id": "view-in-github",
        "colab_type": "text"
      },
      "source": [
        "<a href=\"https://colab.research.google.com/github/bill-wilkin/Prediction-of-Product-Sales/blob/main/prediction_of_product_sales.ipynb\" target=\"_parent\"><img src=\"https://colab.research.google.com/assets/colab-badge.svg\" alt=\"Open In Colab\"/></a>"
      ]
    },
    {
      "cell_type": "markdown",
      "source": [
        "#Prediction of Product Sales\n",
        "- Bill Wilkin\n"
      ],
      "metadata": {
        "id": "b_bY3mI0vF87"
      }
    },
    {
      "cell_type": "markdown",
      "source": [
        "##Project Overview"
      ],
      "metadata": {
        "id": "CaL0dy3BvNTI"
      }
    },
    {
      "cell_type": "code",
      "source": [],
      "metadata": {
        "id": "QbFjSVmKvTHo"
      },
      "execution_count": null,
      "outputs": []
    },
    {
      "cell_type": "markdown",
      "source": [
        "##Load and Inspect Data"
      ],
      "metadata": {
        "id": "Ay7efKFlvWC6"
      }
    },
    {
      "cell_type": "code",
      "source": [],
      "metadata": {
        "id": "verhn8n1vZUH"
      },
      "execution_count": null,
      "outputs": []
    },
    {
      "cell_type": "markdown",
      "source": [
        "##Clean Data"
      ],
      "metadata": {
        "id": "OAs9jj_DvaLM"
      }
    },
    {
      "cell_type": "code",
      "source": [],
      "metadata": {
        "id": "V9hKiBvgveL2"
      },
      "execution_count": null,
      "outputs": []
    },
    {
      "cell_type": "markdown",
      "source": [
        "##Exploratory Data Analysis"
      ],
      "metadata": {
        "id": "_0F8lzBrveg8"
      }
    },
    {
      "cell_type": "code",
      "source": [],
      "metadata": {
        "id": "6RiL3ROuvjdg"
      },
      "execution_count": null,
      "outputs": []
    },
    {
      "cell_type": "markdown",
      "source": [
        "##Exploratory Data Analysis"
      ],
      "metadata": {
        "id": "54HLNzGXvj22"
      }
    },
    {
      "cell_type": "code",
      "source": [],
      "metadata": {
        "id": "Nk3nwKDRvn9F"
      },
      "execution_count": null,
      "outputs": []
    }
  ]
}